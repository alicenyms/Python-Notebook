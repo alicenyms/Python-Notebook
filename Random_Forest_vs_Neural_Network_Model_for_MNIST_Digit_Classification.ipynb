{
  "nbformat": 4,
  "nbformat_minor": 0,
  "metadata": {
    "colab": {
      "name": "Random Forest vs Neural Network Model for MNIST Digit Classification",
      "provenance": [],
      "collapsed_sections": [],
      "authorship_tag": "ABX9TyP1jAqQsn8PVy1Snx+QNmIR",
      "include_colab_link": true
    },
    "kernelspec": {
      "name": "python3",
      "display_name": "Python 3"
    },
    "language_info": {
      "name": "python"
    }
  },
  "cells": [
    {
      "cell_type": "markdown",
      "metadata": {
        "id": "view-in-github",
        "colab_type": "text"
      },
      "source": [
        "<a href=\"https://colab.research.google.com/github/alicenyms/Python-Notebook/blob/main/Random_Forest_vs_Neural_Network_Model_for_MNIST_Digit_Classification.ipynb\" target=\"_parent\"><img src=\"https://colab.research.google.com/assets/colab-badge.svg\" alt=\"Open In Colab\"/></a>"
      ]
    },
    {
      "cell_type": "markdown",
      "source": [
        "#Random Forest vs Neural Network Model for MNIST Digit Classification\n",
        "The random forest model is frequently compared to the neural network model because both can model data with non-linear relationship variables and deal with their interactions, therefore it was chosen as the first model algorithm to compare with the Neural network model."
      ],
      "metadata": {
        "id": "p1_SgFVNK1N4"
      }
    },
    {
      "cell_type": "markdown",
      "source": [
        "##Import neccessary packages"
      ],
      "metadata": {
        "id": "KRbopnzOAHmC"
      }
    },
    {
      "cell_type": "code",
      "source": [
        "import numpy as np\n",
        "import random\n",
        "import matplotlib.pyplot as plt\n",
        "from sklearn.model_selection import train_test_split"
      ],
      "metadata": {
        "id": "uVSZgLRvLXpi"
      },
      "execution_count": null,
      "outputs": []
    },
    {
      "cell_type": "markdown",
      "source": [
        "## Load the MNIST dataset from Keras\n",
        "MNIST Dataset was loaded from Keras. The shape of the train_images, train_labels, test_images and test_labels were printed for reference. The training dataset contains 60000 handwritten digit images, and the testing dataset contains 10000 handwritten digit images with corresponding labels (digits from 0 to 9)."
      ],
      "metadata": {
        "id": "AQnozrmrLhgx"
      }
    },
    {
      "cell_type": "code",
      "execution_count": null,
      "metadata": {
        "id": "hjY6pJnGS_Y4",
        "colab": {
          "base_uri": "https://localhost:8080/"
        },
        "outputId": "cf303f9a-d8c4-44bf-aad8-e35ed5dcdcd9"
      },
      "outputs": [
        {
          "output_type": "stream",
          "name": "stdout",
          "text": [
            "Downloading data from https://storage.googleapis.com/tensorflow/tf-keras-datasets/mnist.npz\n",
            "11493376/11490434 [==============================] - 0s 0us/step\n",
            "11501568/11490434 [==============================] - 0s 0us/step\n",
            "Shape of train_images: (60000, 28, 28)\n",
            "Shape of train_labels: (60000,)\n",
            "Shape of test_images: (10000, 28, 28)\n",
            "Shape of test_labels: (10000,)\n"
          ]
        }
      ],
      "source": [
        "from keras.datasets import mnist\n",
        "(train_images, train_labels), (test_images, test_labels) = mnist.load_data()\n",
        "\n",
        "print(f'Shape of train_images: {train_images.shape}')\n",
        "print(f'Shape of train_labels: {train_labels.shape}')\n",
        "print(f'Shape of test_images: {test_images.shape}')\n",
        "print(f'Shape of test_labels: {test_labels.shape}')"
      ]
    },
    {
      "cell_type": "markdown",
      "source": [
        "##Explore data sample from the downloaded dataset\n",
        "Training data with index 0 and its corresponding labels were printed for data exploration. Each image has 28 rows with 28 numbers which range from 0 to 255 to represent the grey level of the pixel. The image with index 0 was also plotted for visualization."
      ],
      "metadata": {
        "id": "ct4szj2BLtdX"
      }
    },
    {
      "cell_type": "code",
      "source": [
        "print(f'*** train_images (index 0) with train_label = {train_labels[0]} : \\n {train_images[0]}.')\n",
        "plt.imshow(train_images[0], cmap=plt.cm.binary)\n",
        "plt.show()"
      ],
      "metadata": {
        "colab": {
          "base_uri": "https://localhost:8080/",
          "height": 1000
        },
        "id": "crOMnOWnHRWg",
        "outputId": "6e9783aa-e461-4b56-b9ee-1198beb3a2a1"
      },
      "execution_count": null,
      "outputs": [
        {
          "output_type": "stream",
          "name": "stdout",
          "text": [
            "*** train_images (index 0) with train_label = 5 : \n",
            " [[  0   0   0   0   0   0   0   0   0   0   0   0   0   0   0   0   0   0\n",
            "    0   0   0   0   0   0   0   0   0   0]\n",
            " [  0   0   0   0   0   0   0   0   0   0   0   0   0   0   0   0   0   0\n",
            "    0   0   0   0   0   0   0   0   0   0]\n",
            " [  0   0   0   0   0   0   0   0   0   0   0   0   0   0   0   0   0   0\n",
            "    0   0   0   0   0   0   0   0   0   0]\n",
            " [  0   0   0   0   0   0   0   0   0   0   0   0   0   0   0   0   0   0\n",
            "    0   0   0   0   0   0   0   0   0   0]\n",
            " [  0   0   0   0   0   0   0   0   0   0   0   0   0   0   0   0   0   0\n",
            "    0   0   0   0   0   0   0   0   0   0]\n",
            " [  0   0   0   0   0   0   0   0   0   0   0   0   3  18  18  18 126 136\n",
            "  175  26 166 255 247 127   0   0   0   0]\n",
            " [  0   0   0   0   0   0   0   0  30  36  94 154 170 253 253 253 253 253\n",
            "  225 172 253 242 195  64   0   0   0   0]\n",
            " [  0   0   0   0   0   0   0  49 238 253 253 253 253 253 253 253 253 251\n",
            "   93  82  82  56  39   0   0   0   0   0]\n",
            " [  0   0   0   0   0   0   0  18 219 253 253 253 253 253 198 182 247 241\n",
            "    0   0   0   0   0   0   0   0   0   0]\n",
            " [  0   0   0   0   0   0   0   0  80 156 107 253 253 205  11   0  43 154\n",
            "    0   0   0   0   0   0   0   0   0   0]\n",
            " [  0   0   0   0   0   0   0   0   0  14   1 154 253  90   0   0   0   0\n",
            "    0   0   0   0   0   0   0   0   0   0]\n",
            " [  0   0   0   0   0   0   0   0   0   0   0 139 253 190   2   0   0   0\n",
            "    0   0   0   0   0   0   0   0   0   0]\n",
            " [  0   0   0   0   0   0   0   0   0   0   0  11 190 253  70   0   0   0\n",
            "    0   0   0   0   0   0   0   0   0   0]\n",
            " [  0   0   0   0   0   0   0   0   0   0   0   0  35 241 225 160 108   1\n",
            "    0   0   0   0   0   0   0   0   0   0]\n",
            " [  0   0   0   0   0   0   0   0   0   0   0   0   0  81 240 253 253 119\n",
            "   25   0   0   0   0   0   0   0   0   0]\n",
            " [  0   0   0   0   0   0   0   0   0   0   0   0   0   0  45 186 253 253\n",
            "  150  27   0   0   0   0   0   0   0   0]\n",
            " [  0   0   0   0   0   0   0   0   0   0   0   0   0   0   0  16  93 252\n",
            "  253 187   0   0   0   0   0   0   0   0]\n",
            " [  0   0   0   0   0   0   0   0   0   0   0   0   0   0   0   0   0 249\n",
            "  253 249  64   0   0   0   0   0   0   0]\n",
            " [  0   0   0   0   0   0   0   0   0   0   0   0   0   0  46 130 183 253\n",
            "  253 207   2   0   0   0   0   0   0   0]\n",
            " [  0   0   0   0   0   0   0   0   0   0   0   0  39 148 229 253 253 253\n",
            "  250 182   0   0   0   0   0   0   0   0]\n",
            " [  0   0   0   0   0   0   0   0   0   0  24 114 221 253 253 253 253 201\n",
            "   78   0   0   0   0   0   0   0   0   0]\n",
            " [  0   0   0   0   0   0   0   0  23  66 213 253 253 253 253 198  81   2\n",
            "    0   0   0   0   0   0   0   0   0   0]\n",
            " [  0   0   0   0   0   0  18 171 219 253 253 253 253 195  80   9   0   0\n",
            "    0   0   0   0   0   0   0   0   0   0]\n",
            " [  0   0   0   0  55 172 226 253 253 253 253 244 133  11   0   0   0   0\n",
            "    0   0   0   0   0   0   0   0   0   0]\n",
            " [  0   0   0   0 136 253 253 253 212 135 132  16   0   0   0   0   0   0\n",
            "    0   0   0   0   0   0   0   0   0   0]\n",
            " [  0   0   0   0   0   0   0   0   0   0   0   0   0   0   0   0   0   0\n",
            "    0   0   0   0   0   0   0   0   0   0]\n",
            " [  0   0   0   0   0   0   0   0   0   0   0   0   0   0   0   0   0   0\n",
            "    0   0   0   0   0   0   0   0   0   0]\n",
            " [  0   0   0   0   0   0   0   0   0   0   0   0   0   0   0   0   0   0\n",
            "    0   0   0   0   0   0   0   0   0   0]].\n"
          ]
        },
        {
          "output_type": "display_data",
          "data": {
            "text/plain": [
              "<Figure size 432x288 with 1 Axes>"
            ],
            "image/png": "[encoded data removed]"
          },
          "metadata": {
            "needs_background": "light"
          }
        }
      ]
    },
    {
      "cell_type": "markdown",
      "source": [
        "## Random Forest"
      ],
      "metadata": {
        "id": "MQ6kKzw4TRxN"
      }
    },
    {
      "cell_type": "markdown",
      "source": [
        "###Data preprocessing for Random Forest Model\n",
        "\n",
        "The training data were normalized by the maximum value 255 and reshaped from a 28*28 2D array to a 1D array. The shape of rf_train_images and rf_test_images were printed as follow:\n"
      ],
      "metadata": {
        "id": "_xosk4KnMj9r"
      }
    },
    {
      "cell_type": "code",
      "source": [
        "rf_train_images = train_images.reshape((60000, 28*28))/255\n",
        "rf_test_images = test_images.reshape((10000, 28*28))/255\n",
        "print(f'Shape of rf_train_images: {rf_train_images.shape}.')\n",
        "print(f'Shape of rf_test_images: {rf_test_images.shape}.')"
      ],
      "metadata": {
        "colab": {
          "base_uri": "https://localhost:8080/"
        },
        "id": "6ZrxsnpSNfd-",
        "outputId": "a79626c7-5ba4-4e08-ab6e-3f684435d167"
      },
      "execution_count": null,
      "outputs": [
        {
          "output_type": "stream",
          "name": "stdout",
          "text": [
            "Shape of rf_train_images: (60000, 784).\n",
            "Shape of rf_test_images: (10000, 784).\n"
          ]
        }
      ]
    },
    {
      "cell_type": "markdown",
      "source": [
        "###Model Training\n",
        "RandomForestClassifer was imported via sklearn.ensemble. The training data were then fed for model training."
      ],
      "metadata": {
        "id": "9WxZf4-hOSuk"
      }
    },
    {
      "cell_type": "code",
      "source": [
        "from sklearn.ensemble import RandomForestClassifier\n",
        "\n",
        "rf_model = RandomForestClassifier()\n",
        "rf_model.fit(rf_train_images,train_labels)"
      ],
      "metadata": {
        "colab": {
          "base_uri": "https://localhost:8080/"
        },
        "id": "_rrRLWbSORyb",
        "outputId": "e9893db8-8f02-49a3-a06f-805d6d63112a"
      },
      "execution_count": null,
      "outputs": [
        {
          "output_type": "execute_result",
          "data": {
            "text/plain": [
              "RandomForestClassifier()"
            ]
          },
          "metadata": {},
          "execution_count": 5
        }
      ]
    },
    {
      "cell_type": "markdown",
      "source": [
        "###Model prediction\n",
        "The trained model was then used to predict the test images and train images.\n"
      ],
      "metadata": {
        "id": "5v5GkFSmQOnz"
      }
    },
    {
      "cell_type": "code",
      "source": [
        "rf_test_images_predict = rf_model.predict(rf_test_images)\n",
        "rf_train_images_predict = rf_model.predict(rf_train_images)"
      ],
      "metadata": {
        "id": "gP2hG7B6RM5g"
      },
      "execution_count": null,
      "outputs": []
    },
    {
      "cell_type": "markdown",
      "source": [
        "###Model Evaluation\n",
        "Accuracy was used as the performance metric for model evaluation. The training accuracy of the model is 1 while the testing accuracy of the model is 0.9697."
      ],
      "metadata": {
        "id": "HcsDgVZ5S9i7"
      }
    },
    {
      "cell_type": "code",
      "source": [
        "import sklearn.metrics as mt\n",
        "print('The training accuracy of the Random Forest Model is:', mt.accuracy_score (rf_train_images_predict,train_labels))\n",
        "print('The tesing accuracy of the Random Forest Model is:', mt.accuracy_score (rf_test_images_predict,test_labels))"
      ],
      "metadata": {
        "colab": {
          "base_uri": "https://localhost:8080/"
        },
        "id": "wPB4RypHQ5g3",
        "outputId": "02620ef0-bcec-485a-ec99-d3a38ff035a8"
      },
      "execution_count": null,
      "outputs": [
        {
          "output_type": "stream",
          "name": "stdout",
          "text": [
            "The training accuracy of the Random Forest Model is: 1.0\n",
            "The tesing accuracy of the Random Forest Model is: 0.9697\n"
          ]
        }
      ]
    },
    {
      "cell_type": "markdown",
      "source": [
        "## Neural Network\n"
      ],
      "metadata": {
        "id": "J6PqosUxSbDI"
      }
    },
    {
      "cell_type": "code",
      "source": [
        "from keras import models\n",
        "from keras import layers\n",
        "from keras.utils.np_utils import to_categorical"
      ],
      "metadata": {
        "id": "9nAggTuRYezG"
      },
      "execution_count": null,
      "outputs": []
    },
    {
      "cell_type": "markdown",
      "source": [
        "### Data preparation for Neural Network Model:\n",
        "The training data were normalized by the maximum value 255 and reshaped from a 28*28 2D array to a 1D array. The labels of training and testing data were transformed into categories using the to_categorical function from keras.utils.np_utils. The shape of nn_train_images , nn_test_images, nn_train_labels and nn_test_labels were printed as follow:\n"
      ],
      "metadata": {
        "id": "UedDuOfbXjj7"
      }
    },
    {
      "cell_type": "code",
      "source": [
        "nn_train_images = train_images.reshape((60000, 28*28))/255\n",
        "nn_test_images = test_images.reshape((10000, 28*28))/255\n",
        "nn_train_labels = to_categorical(train_labels)\n",
        "nn_test_labels = to_categorical(test_labels)\n",
        "\n",
        "print(f'Shape of nn_train_images: {nn_train_images.shape}')\n",
        "print(f'Shape of nn_train_labels: {nn_train_labels.shape}')\n",
        "print(f'Shape of nn_test_images: {nn_test_images.shape}')\n",
        "print(f'Shape of nn_test_labels: {nn_test_labels.shape}')\n",
        "print(f'nn_train_labels: \\n {nn_train_labels}')"
      ],
      "metadata": {
        "colab": {
          "base_uri": "https://localhost:8080/"
        },
        "id": "Qi3mMGdmXb1q",
        "outputId": "8387180b-aeea-472d-cab2-65f5e119be38"
      },
      "execution_count": null,
      "outputs": [
        {
          "output_type": "stream",
          "name": "stdout",
          "text": [
            "Shape of nn_train_images: (60000, 784)\n",
            "Shape of nn_train_labels: (60000, 10)\n",
            "Shape of nn_test_images: (10000, 784)\n",
            "Shape of nn_test_labels: (10000, 10)\n",
            "nn_train_labels: \n",
            " [[0. 0. 0. ... 0. 0. 0.]\n",
            " [1. 0. 0. ... 0. 0. 0.]\n",
            " [0. 0. 0. ... 0. 0. 0.]\n",
            " ...\n",
            " [0. 0. 0. ... 0. 0. 0.]\n",
            " [0. 0. 0. ... 0. 0. 0.]\n",
            " [0. 0. 0. ... 0. 1. 0.]]\n"
          ]
        }
      ]
    },
    {
      "cell_type": "markdown",
      "source": [
        "###Design the architecture of neural network\n",
        "The architecture of the neural network will basically the same as indicated in lecture 2 with ReLU as the activation function for the hidden layer and Softmax as the activation function as the output layer. Meanwhile, the number of the hidden units was changed to 256 compared with the original number of 512."
      ],
      "metadata": {
        "id": "TvCr1syzjLXw"
      }
    },
    {
      "cell_type": "code",
      "source": [
        "network = models.Sequential()\n",
        "network.add(layers.Dense(256, activation = 'relu', input_shape=(28*28,)))\n",
        "network.add(layers.Dense(10,activation='softmax'))\n",
        "network.compile(optimizer='rmsprop',loss='categorical_crossentropy',metrics=['accuracy'])"
      ],
      "metadata": {
        "id": "EimUSgfXYvGE"
      },
      "execution_count": null,
      "outputs": []
    },
    {
      "cell_type": "markdown",
      "source": [
        "\n",
        "With the .summary() function, we can have an overview of the network model, different information was shown in the output like layer type, output shape, number of parameters, etc."
      ],
      "metadata": {
        "id": "mF8sUMRoD4Zn"
      }
    },
    {
      "cell_type": "code",
      "source": [
        "network.summary()"
      ],
      "metadata": {
        "colab": {
          "base_uri": "https://localhost:8080/"
        },
        "id": "_WxR0uaNfXU3",
        "outputId": "5ad474e1-f703-4bac-b161-93e5f7d0b357"
      },
      "execution_count": null,
      "outputs": [
        {
          "output_type": "stream",
          "name": "stdout",
          "text": [
            "Model: \"sequential\"\n",
            "_________________________________________________________________\n",
            " Layer (type)                Output Shape              Param #   \n",
            "=================================================================\n",
            " dense (Dense)               (None, 256)               200960    \n",
            "                                                                 \n",
            " dense_1 (Dense)             (None, 10)                2570      \n",
            "                                                                 \n",
            "=================================================================\n",
            "Total params: 203,530\n",
            "Trainable params: 203,530\n",
            "Non-trainable params: 0\n",
            "_________________________________________________________________\n"
          ]
        }
      ]
    },
    {
      "cell_type": "markdown",
      "source": [
        "<b> Steps done:\n",
        "* Set seed to get reproducible results\n",
        "* Design the architecture of neural network\n",
        "* Train the neural network model\n",
        "* Model evaluation\n"
      ],
      "metadata": {
        "id": "48M-_I0ophQe"
      }
    },
    {
      "cell_type": "code",
      "source": [
        "#Set seed to get reproducible results for comparison\n",
        "#Source: https://stackoverflow.com/questions/50659482/why-cant-i-get-reproducible-results-in-keras-even-though-i-set-the-random-seeds\n",
        "seed_value=123\n",
        "import os\n",
        "os.environ['PYTHONHASHSEED']=str(seed_value)\n",
        "import random\n",
        "random.seed(seed_value)\n",
        "import numpy as np\n",
        "np.random.seed(seed_value)\n",
        "import tensorflow as tf\n",
        "tf.random.set_seed(seed_value)\n",
        "session_conf = tf.compat.v1.ConfigProto(intra_op_parallelism_threads=1, inter_op_parallelism_threads=1)\n",
        "sess = tf.compat.v1.Session(graph=tf.compat.v1.get_default_graph(), config=session_conf)\n",
        "tf.compat.v1.keras.backend.set_session(sess)\n",
        "\n",
        "#Design the architecture of neural network\n",
        "epochs=20\n",
        "hidden_layers=512\n",
        "\n",
        "network = models.Sequential()\n",
        "network.add(layers.Dense(hidden_layers, activation = 'relu', input_shape=(28*28,)))\n",
        "network.add(layers.Dense(10,activation='softmax'))\n",
        "network.compile(optimizer='rmsprop',loss='categorical_crossentropy',metrics=['accuracy'])\n",
        "\n",
        "network.summary()\n",
        "\n",
        "#Model training\n",
        "network.fit(nn_train_images,nn_train_labels, epochs=epochs, batch_size=128)\n",
        "\n",
        "#Evaluate the model\n",
        "test_loss, test_accuracy = network.evaluate(nn_test_images, nn_test_labels)\n",
        "print('The accuracy of the Neural Network Model is:', test_accuracy)"
      ],
      "metadata": {
        "colab": {
          "base_uri": "https://localhost:8080/"
        },
        "id": "P2NbKrHfpvwD",
        "outputId": "684bb1ad-86c7-4db6-8b26-3a54fbfa0615"
      },
      "execution_count": null,
      "outputs": [
        {
          "output_type": "stream",
          "name": "stdout",
          "text": [
            "Model: \"sequential_33\"\n",
            "_________________________________________________________________\n",
            " Layer (type)                Output Shape              Param #   \n",
            "=================================================================\n",
            " dense_66 (Dense)            (None, 512)               401920    \n",
            "                                                                 \n",
            " dense_67 (Dense)            (None, 10)                5130      \n",
            "                                                                 \n",
            "=================================================================\n",
            "Total params: 407,050\n",
            "Trainable params: 407,050\n",
            "Non-trainable params: 0\n",
            "_________________________________________________________________\n",
            "Epoch 1/20\n",
            "469/469 [==============================] - 5s 10ms/step - loss: 0.2557 - accuracy: 0.9265\n",
            "Epoch 2/20\n",
            "469/469 [==============================] - 5s 10ms/step - loss: 0.1044 - accuracy: 0.9688\n",
            "Epoch 3/20\n",
            "469/469 [==============================] - 5s 10ms/step - loss: 0.0682 - accuracy: 0.9794\n",
            "Epoch 4/20\n",
            "469/469 [==============================] - 5s 10ms/step - loss: 0.0499 - accuracy: 0.9850\n",
            "Epoch 5/20\n",
            "469/469 [==============================] - 5s 10ms/step - loss: 0.0372 - accuracy: 0.9888\n",
            "Epoch 6/20\n",
            "469/469 [==============================] - 5s 10ms/step - loss: 0.0285 - accuracy: 0.9920\n",
            "Epoch 7/20\n",
            "469/469 [==============================] - 5s 10ms/step - loss: 0.0222 - accuracy: 0.9936\n",
            "Epoch 8/20\n",
            "469/469 [==============================] - 5s 10ms/step - loss: 0.0166 - accuracy: 0.9954\n",
            "Epoch 9/20\n",
            "469/469 [==============================] - 5s 10ms/step - loss: 0.0132 - accuracy: 0.9964\n",
            "Epoch 10/20\n",
            "469/469 [==============================] - 5s 10ms/step - loss: 0.0099 - accuracy: 0.9972\n",
            "Epoch 11/20\n",
            "469/469 [==============================] - 5s 10ms/step - loss: 0.0078 - accuracy: 0.9979\n",
            "Epoch 12/20\n",
            "469/469 [==============================] - 5s 10ms/step - loss: 0.0065 - accuracy: 0.9982\n",
            "Epoch 13/20\n",
            "469/469 [==============================] - 5s 10ms/step - loss: 0.0048 - accuracy: 0.9988\n",
            "Epoch 14/20\n",
            "469/469 [==============================] - 5s 10ms/step - loss: 0.0039 - accuracy: 0.9988\n",
            "Epoch 15/20\n",
            "469/469 [==============================] - 5s 10ms/step - loss: 0.0029 - accuracy: 0.9993\n",
            "Epoch 16/20\n",
            "469/469 [==============================] - 5s 10ms/step - loss: 0.0026 - accuracy: 0.9993\n",
            "Epoch 17/20\n",
            "469/469 [==============================] - 6s 12ms/step - loss: 0.0017 - accuracy: 0.9996\n",
            "Epoch 18/20\n",
            "469/469 [==============================] - 5s 10ms/step - loss: 0.0013 - accuracy: 0.9997\n",
            "Epoch 19/20\n",
            "469/469 [==============================] - 5s 10ms/step - loss: 0.0013 - accuracy: 0.9996\n",
            "Epoch 20/20\n",
            "469/469 [==============================] - 5s 10ms/step - loss: 8.9935e-04 - accuracy: 0.9998\n",
            "313/313 [==============================] - 1s 3ms/step - loss: 0.0966 - accuracy: 0.9842\n",
            "The accuracy of the Neural Network Model is: 0.9842000007629395\n"
          ]
        }
      ]
    },
    {
      "cell_type": "markdown",
      "source": [
        "**Make prediction using the model**"
      ],
      "metadata": {
        "id": "a35UYdzIp_y9"
      }
    },
    {
      "cell_type": "code",
      "source": [
        "nn_test_images_predict = network.predict(nn_test_images)\n",
        "nn_test_images_predict"
      ],
      "metadata": {
        "colab": {
          "base_uri": "https://localhost:8080/"
        },
        "id": "SP0HXJV0p_y_",
        "outputId": "c0178437-4f5f-4628-8114-11bebe704ca8"
      },
      "execution_count": null,
      "outputs": [
        {
          "output_type": "execute_result",
          "data": {
            "text/plain": [
              "array([[6.0320972e-18, 7.8123459e-24, 2.5360973e-14, ..., 1.0000000e+00,\n",
              "        3.4873562e-18, 4.5549905e-12],\n",
              "       [1.1781630e-21, 5.5553179e-12, 1.0000000e+00, ..., 0.0000000e+00,\n",
              "        1.7712843e-15, 2.4712285e-32],\n",
              "       [5.5369734e-16, 9.9999988e-01, 6.9645687e-08, ..., 6.7835351e-09,\n",
              "        1.8865505e-08, 8.5368195e-14],\n",
              "       ...,\n",
              "       [1.6752214e-30, 8.2538383e-25, 4.9245327e-25, ..., 8.1873805e-12,\n",
              "        9.5586889e-14, 2.8468303e-10],\n",
              "       [6.9158721e-22, 1.4985806e-22, 1.9690683e-27, ..., 1.8003515e-23,\n",
              "        4.6397738e-12, 1.4109844e-23],\n",
              "       [3.1817515e-24, 0.0000000e+00, 4.8049542e-25, ..., 1.8040625e-32,\n",
              "        1.2164415e-24, 6.0317380e-30]], dtype=float32)"
            ]
          },
          "metadata": {},
          "execution_count": 50
        }
      ]
    },
    {
      "cell_type": "markdown",
      "source": [
        "**Evaluate the model**"
      ],
      "metadata": {
        "id": "YlUBE7Cep_zA"
      }
    },
    {
      "cell_type": "code",
      "source": [
        "train_loss, train_accuracy = network.evaluate(nn_train_images, nn_train_labels)\n",
        "print('The training accuracy of the Neural Network Model is:', train_accuracy)\n",
        "\n",
        "test_loss, test_accuracy = network.evaluate(nn_test_images, nn_test_labels)\n",
        "print('The testing accuracy of the Neural Network Model is:', test_accuracy)"
      ],
      "metadata": {
        "colab": {
          "base_uri": "https://localhost:8080/"
        },
        "outputId": "f4aafe08-52cf-471c-999e-30c3be4c23ae",
        "id": "Bbxu6_mMp_zB"
      },
      "execution_count": null,
      "outputs": [
        {
          "output_type": "stream",
          "name": "stdout",
          "text": [
            "1875/1875 [==============================] - 6s 3ms/step - loss: 3.6985e-04 - accuracy: 0.9999\n",
            "The training accuracy of the Neural Network Model is: 0.9998666644096375\n",
            "313/313 [==============================] - 1s 3ms/step - loss: 0.0966 - accuracy: 0.9842\n",
            "The testing accuracy of the Neural Network Model is: 0.9842000007629395\n"
          ]
        }
      ]
    },
    {
      "cell_type": "markdown",
      "source": [
        "Since choosing the value of hyperparameters is a trial-and-error process, therefore in this exercise, I used the same model architecture as shown in the lecture notes while also fixed the value of batch size to 128. On the other hand, I tried to vary **the value of the number of hidden units in the hidden layer** and **the number of epochs during training.**\n",
        "\n",
        "The test accuracy result summary is shown in the following table: \n",
        "\n",
        "Number of Hidden Units | Batch Size | Epochs | Testing Accuracy  \n",
        "--- | --- | --- | ---\n",
        "512 | 128 | 2 | 0.969900012\n",
        "512 | 128 | 5 | 0.978799999\n",
        "512 | 128 | 10 | 0.981599987\n",
        "**512** | **128** | **20** | **0.984200001**\n",
        "512 | 128 | 30 | 0.982900023\n",
        "512 | 128 | 50 | 0.983299971\n",
        "512 | 128 | 60 | 0.983399987\n",
        "512 | 128 | 70 | 0.983299971\n",
        "256 | 128 | 2 | 0.967499971\n",
        "256 | 128 | 5 | 0.973699987\n",
        "256 | 128 | 10 | 0.981100023\n",
        "256 | 128 | 20 | 0.980599999\n",
        "256 | 128 | 30 | 0.980799973\n",
        "256 | 128 | 50 | 0.981400013\n",
        "256 | 128 | 60 | 0.98150003\n",
        "256 | 128 | 70 | 0.98150003\n",
        "\n",
        "**The summary shows that under the batch size =128 situation with the number of hidden units = 512 and the number of epochs = 20 can obtain the best test accuracy.**\n"
      ],
      "metadata": {
        "id": "ubeDRy4mFFC6"
      }
    },
    {
      "cell_type": "markdown",
      "source": [
        "Based on the performance metric on testing data of both models, the neural network model has better accuracy than the random forest model. (i.e., The testing accuracy of the random forest model is 0.9697 while the testing accuracy of the neural network model is 0.9842.)\n",
        " \n",
        "The reasons why the neural network model has better accuracy than the random forest model can be explained in terms of different aspects.\n"
      ],
      "metadata": {
        "id": "SctMxfYBIBf0"
      }
    },
    {
      "cell_type": "markdown",
      "source": [
        " \n",
        "Firstly, the random forest model has a more severe overfitting problem (overfitting problem occurs when the training accuracy is higher than the testing accuracy)than the neural network. The training accuracy of the random forest model even reaches 100% as shown in the following table.\n",
        "\n",
        "Algorithm | Training Accuracy | Testing Accurancy | Difference (Training accuracy – Testing accuracy) \n",
        "--- | --- | --- | ---\n",
        "Random Forest Model | 1 | 0.9697 | 0.0303\n",
        "Neural Network Model | 0.9998 | 0.9842 | 0.0156"
      ],
      "metadata": {
        "id": "j92j-DpMIrxS"
      }
    },
    {
      "cell_type": "markdown",
      "source": [
        "Secondly, the result can be explained by the working principle of two algorithms and the features of the dataset.\n",
        " \n",
        "A random forest algorithm is an ensemble of individual decision trees. In the ensemble, each decision tree is independent of the others and each of them will have a class prediction. The decision of the random forest model is made by voting, that is, the class with the most votes will become the random forest model prediction.\n",
        " \n",
        "While for the neural network algorithm, it is a network with connected neurons. Due to the connective features of the network, those neurons cannot perform without others, unlike each individual decision tree in the random forest model. The neurons are grouped in different types of layers and perform data processing and data passing from one layer to another process and make the decisions in the output layer batch by batch during one training epoch. \n",
        " \n",
        "In our neural network model, we have hidden layers, hidden layers are often the key component that allows the network model to capture the non-linear relationships between the data, deal with the complex tasks and increase the performance of the model. Since MINST is a dataset that contains a huge number of handwritten digits and the relationship between data is non-linear, therefore neural network is a suitable algorithm for it. Meanwhile, the amount of data inside the MNIST dataset is huge to benefit the neural network model (i.e., 60000 images for training data and 10000 images for testing data). For the neural network model, the larger amount of data we fed into the model, the accuracy is generally higher. "
      ],
      "metadata": {
        "id": "DxV5Li9NInbb"
      }
    }
  ]
}